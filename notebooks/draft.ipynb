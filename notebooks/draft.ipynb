{
 "cells": [
  {
   "cell_type": "code",
   "execution_count": 111,
   "metadata": {},
   "outputs": [],
   "source": [
    "class Claim:\n",
    "    def __init__(self, *args):\n",
    "        print(args)\n",
    "        self.__subject = args[0]\n",
    "        self.__predicate = args[1]\n",
    "        self.__object = args[2]\n",
    "    \n",
    "    @property\n",
    "    def predicate(self):\n",
    "        return self.__predicate\n",
    "    \n",
    "    @predicate.setter\n",
    "    def predicate(self,v):\n",
    "        self.__predicate = v"
   ]
  },
  {
   "cell_type": "code",
   "execution_count": 114,
   "metadata": {},
   "outputs": [
    {
     "name": "stdout",
     "output_type": "stream",
     "text": [
      "('obama', 'bornin', 'kenya')\n"
     ]
    }
   ],
   "source": [
    "params = ['obama', 'bornin', 'kenya']\n",
    "claim = Claim(*params)"
   ]
  },
  {
   "cell_type": "code",
   "execution_count": 104,
   "metadata": {},
   "outputs": [
    {
     "name": "stdout",
     "output_type": "stream",
     "text": [
      "bornin\n"
     ]
    }
   ],
   "source": [
    "print(claim.predicate)"
   ]
  },
  {
   "cell_type": "code",
   "execution_count": null,
   "metadata": {},
   "outputs": [],
   "source": []
  }
 ],
 "metadata": {
  "kernelspec": {
   "display_name": "Python 3",
   "language": "python",
   "name": "python3"
  },
  "language_info": {
   "codemirror_mode": {
    "name": "ipython",
    "version": 3
   },
   "file_extension": ".py",
   "mimetype": "text/x-python",
   "name": "python",
   "nbconvert_exporter": "python",
   "pygments_lexer": "ipython3",
   "version": "3.6.3"
  }
 },
 "nbformat": 4,
 "nbformat_minor": 2
}
